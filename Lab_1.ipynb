{
 "cells": [
  {
   "cell_type": "markdown",
   "id": "e2b33661-7ba4-41e5-b25a-07925844edcb",
   "metadata": {},
   "source": [
    "# Лабораторная работа № 1"
   ]
  },
  {
   "cell_type": "markdown",
   "id": "b6a0fbee-4951-4f80-b24f-2bc436690e7f",
   "metadata": {},
   "source": [
    "**Задание:** Сделать матрицу шахматную доску \n",
    "с помощью команды tile"
   ]
  },
  {
   "cell_type": "markdown",
   "id": "67e9745a-108e-4672-bab9-47ae17de55e7",
   "metadata": {},
   "source": [
    "## Загрузка модулей"
   ]
  },
  {
   "cell_type": "code",
   "execution_count": 1,
   "id": "edad771f-a39a-4f93-9679-78350baf2461",
   "metadata": {},
   "outputs": [],
   "source": [
    "import numpy as np"
   ]
  },
  {
   "cell_type": "code",
   "execution_count": 4,
   "id": "aaf1a8d5-ef8e-4a9d-9a45-297a3245319c",
   "metadata": {},
   "outputs": [
    {
     "data": {
      "text/plain": [
       "array([[0, 1, 0, 1, 0, 1, 0, 1],\n",
       "       [1, 0, 1, 0, 1, 0, 1, 0],\n",
       "       [0, 1, 0, 1, 0, 1, 0, 1],\n",
       "       [1, 0, 1, 0, 1, 0, 1, 0],\n",
       "       [0, 1, 0, 1, 0, 1, 0, 1],\n",
       "       [1, 0, 1, 0, 1, 0, 1, 0],\n",
       "       [0, 1, 0, 1, 0, 1, 0, 1],\n",
       "       [1, 0, 1, 0, 1, 0, 1, 0]])"
      ]
     },
     "execution_count": 4,
     "metadata": {},
     "output_type": "execute_result"
    }
   ],
   "source": [
    "np.tile(np.tile([[0, 1], [1, 0]], 4).T, 4)"
   ]
  }
 ],
 "metadata": {
  "kernelspec": {
   "display_name": "Python 3 (ipykernel)",
   "language": "python",
   "name": "python3"
  },
  "language_info": {
   "codemirror_mode": {
    "name": "ipython",
    "version": 3
   },
   "file_extension": ".py",
   "mimetype": "text/x-python",
   "name": "python",
   "nbconvert_exporter": "python",
   "pygments_lexer": "ipython3",
   "version": "3.11.4"
  }
 },
 "nbformat": 4,
 "nbformat_minor": 5
}
